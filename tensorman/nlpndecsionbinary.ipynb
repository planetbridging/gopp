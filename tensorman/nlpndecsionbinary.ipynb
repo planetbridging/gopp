{
 "cells": [
  {
   "cell_type": "code",
   "execution_count": 3,
   "id": "2982a0ac",
   "metadata": {},
   "outputs": [],
   "source": [
    "import pandas as pd\n",
    "import requests\n",
    "\n",
    "url = \"http://192.168.0.222:3000/csv/detecting_testing_applied_rules_3ad8690c-0f99-4f1e-9e91-8e905206be26.csv\"\n",
    "\n",
    "response = requests.get(url)\n",
    "with open(\"network_data.csv\", \"wb\") as file:\n",
    "    file.write(response.content)"
   ]
  },
  {
   "cell_type": "code",
   "execution_count": 4,
   "id": "76ccd37a",
   "metadata": {},
   "outputs": [
    {
     "name": "stdout",
     "output_type": "stream",
     "text": [
      "Requirement already satisfied: tensorflow in ./venv/lib/python3.11/site-packages (2.16.1)\n",
      "Requirement already satisfied: absl-py>=1.0.0 in ./venv/lib/python3.11/site-packages (from tensorflow) (2.1.0)\n",
      "Requirement already satisfied: astunparse>=1.6.0 in ./venv/lib/python3.11/site-packages (from tensorflow) (1.6.3)\n",
      "Requirement already satisfied: flatbuffers>=23.5.26 in ./venv/lib/python3.11/site-packages (from tensorflow) (24.3.25)\n",
      "Requirement already satisfied: gast!=0.5.0,!=0.5.1,!=0.5.2,>=0.2.1 in ./venv/lib/python3.11/site-packages (from tensorflow) (0.5.4)\n",
      "Requirement already satisfied: google-pasta>=0.1.1 in ./venv/lib/python3.11/site-packages (from tensorflow) (0.2.0)\n",
      "Requirement already satisfied: h5py>=3.10.0 in ./venv/lib/python3.11/site-packages (from tensorflow) (3.11.0)\n",
      "Requirement already satisfied: libclang>=13.0.0 in ./venv/lib/python3.11/site-packages (from tensorflow) (18.1.1)\n",
      "Requirement already satisfied: ml-dtypes~=0.3.1 in ./venv/lib/python3.11/site-packages (from tensorflow) (0.3.2)\n",
      "Requirement already satisfied: opt-einsum>=2.3.2 in ./venv/lib/python3.11/site-packages (from tensorflow) (3.3.0)\n",
      "Requirement already satisfied: packaging in ./venv/lib/python3.11/site-packages (from tensorflow) (24.0)\n",
      "Requirement already satisfied: protobuf!=4.21.0,!=4.21.1,!=4.21.2,!=4.21.3,!=4.21.4,!=4.21.5,<5.0.0dev,>=3.20.3 in ./venv/lib/python3.11/site-packages (from tensorflow) (4.25.3)\n",
      "Requirement already satisfied: requests<3,>=2.21.0 in ./venv/lib/python3.11/site-packages (from tensorflow) (2.31.0)\n",
      "Requirement already satisfied: setuptools in ./venv/lib/python3.11/site-packages (from tensorflow) (66.1.1)\n",
      "Requirement already satisfied: six>=1.12.0 in ./venv/lib/python3.11/site-packages (from tensorflow) (1.16.0)\n",
      "Requirement already satisfied: termcolor>=1.1.0 in ./venv/lib/python3.11/site-packages (from tensorflow) (2.4.0)\n",
      "Requirement already satisfied: typing-extensions>=3.6.6 in ./venv/lib/python3.11/site-packages (from tensorflow) (4.11.0)\n",
      "Requirement already satisfied: wrapt>=1.11.0 in ./venv/lib/python3.11/site-packages (from tensorflow) (1.16.0)\n",
      "Requirement already satisfied: grpcio<2.0,>=1.24.3 in ./venv/lib/python3.11/site-packages (from tensorflow) (1.62.1)\n",
      "Requirement already satisfied: tensorboard<2.17,>=2.16 in ./venv/lib/python3.11/site-packages (from tensorflow) (2.16.2)\n",
      "Requirement already satisfied: keras>=3.0.0 in ./venv/lib/python3.11/site-packages (from tensorflow) (3.2.1)\n",
      "Requirement already satisfied: tensorflow-io-gcs-filesystem>=0.23.1 in ./venv/lib/python3.11/site-packages (from tensorflow) (0.36.0)\n",
      "Requirement already satisfied: numpy<2.0.0,>=1.23.5 in ./venv/lib/python3.11/site-packages (from tensorflow) (1.26.4)\n",
      "Requirement already satisfied: wheel<1.0,>=0.23.0 in ./venv/lib/python3.11/site-packages (from astunparse>=1.6.0->tensorflow) (0.43.0)\n",
      "Requirement already satisfied: rich in ./venv/lib/python3.11/site-packages (from keras>=3.0.0->tensorflow) (13.7.1)\n",
      "Requirement already satisfied: namex in ./venv/lib/python3.11/site-packages (from keras>=3.0.0->tensorflow) (0.0.7)\n",
      "Requirement already satisfied: optree in ./venv/lib/python3.11/site-packages (from keras>=3.0.0->tensorflow) (0.11.0)\n",
      "Requirement already satisfied: charset-normalizer<4,>=2 in ./venv/lib/python3.11/site-packages (from requests<3,>=2.21.0->tensorflow) (3.3.2)\n",
      "Requirement already satisfied: idna<4,>=2.5 in ./venv/lib/python3.11/site-packages (from requests<3,>=2.21.0->tensorflow) (3.6)\n",
      "Requirement already satisfied: urllib3<3,>=1.21.1 in ./venv/lib/python3.11/site-packages (from requests<3,>=2.21.0->tensorflow) (2.2.1)\n",
      "Requirement already satisfied: certifi>=2017.4.17 in ./venv/lib/python3.11/site-packages (from requests<3,>=2.21.0->tensorflow) (2024.2.2)\n",
      "Requirement already satisfied: markdown>=2.6.8 in ./venv/lib/python3.11/site-packages (from tensorboard<2.17,>=2.16->tensorflow) (3.6)\n",
      "Requirement already satisfied: tensorboard-data-server<0.8.0,>=0.7.0 in ./venv/lib/python3.11/site-packages (from tensorboard<2.17,>=2.16->tensorflow) (0.7.2)\n",
      "Requirement already satisfied: werkzeug>=1.0.1 in ./venv/lib/python3.11/site-packages (from tensorboard<2.17,>=2.16->tensorflow) (3.0.2)\n",
      "Requirement already satisfied: MarkupSafe>=2.1.1 in ./venv/lib/python3.11/site-packages (from werkzeug>=1.0.1->tensorboard<2.17,>=2.16->tensorflow) (2.1.5)\n",
      "Requirement already satisfied: markdown-it-py>=2.2.0 in ./venv/lib/python3.11/site-packages (from rich->keras>=3.0.0->tensorflow) (3.0.0)\n",
      "Requirement already satisfied: pygments<3.0.0,>=2.13.0 in ./venv/lib/python3.11/site-packages (from rich->keras>=3.0.0->tensorflow) (2.17.2)\n",
      "Requirement already satisfied: mdurl~=0.1 in ./venv/lib/python3.11/site-packages (from markdown-it-py>=2.2.0->rich->keras>=3.0.0->tensorflow) (0.1.2)\n",
      "Note: you may need to restart the kernel to use updated packages.\n"
     ]
    }
   ],
   "source": [
    "pip install tensorflow"
   ]
  },
  {
   "cell_type": "code",
   "execution_count": 5,
   "id": "baf04fd4",
   "metadata": {},
   "outputs": [],
   "source": [
    "\n",
    "import numpy as np\n",
    "import tensorflow as tf\n",
    "from sklearn.model_selection import train_test_split\n",
    "\n",
    "# Load the data from a CSV file\n",
    "data = pd.read_csv(\"network_data.csv\")\n",
    "\n",
    "# Preprocess the payload data\n",
    "def transform_payload(payload):\n",
    "    if pd.isna(payload):\n",
    "        return np.zeros(3000)\n",
    "    numbers = payload.split(\" \")\n",
    "    payload_array = np.zeros(3000)\n",
    "    for i, num in enumerate(numbers):\n",
    "        if num != \"\" and i < 3000:\n",
    "            payload_array[i] = float(num)\n",
    "    return payload_array\n",
    "\n",
    "payload_columns = [\"payload\" + str(i) for i in range(3000)]\n",
    "payload_data = pd.DataFrame(data[\"payload\"].apply(transform_payload).tolist(), columns=payload_columns)\n",
    "data = pd.concat([data, payload_data], axis=1)\n",
    "data = data.drop(\"payload\", axis=1)"
   ]
  },
  {
   "cell_type": "code",
   "execution_count": 7,
   "id": "c263285e",
   "metadata": {},
   "outputs": [
    {
     "name": "stdout",
     "output_type": "stream",
     "text": [
      "rfrr?\n"
     ]
    }
   ],
   "source": [
    "print(\"rfrr?\")"
   ]
  },
  {
   "cell_type": "code",
   "execution_count": null,
   "id": "1b0434e7",
   "metadata": {},
   "outputs": [],
   "source": []
  },
  {
   "cell_type": "code",
   "execution_count": 9,
   "id": "641cf915",
   "metadata": {},
   "outputs": [
    {
     "name": "stderr",
     "output_type": "stream",
     "text": [
      "/home/jupyter/venv/lib/python3.11/site-packages/keras/src/layers/core/dense.py:86: UserWarning: Do not pass an `input_shape`/`input_dim` argument to a layer. When using Sequential models, prefer using an `Input(shape)` object as the first layer in the model instead.\n",
      "  super().__init__(activity_regularizer=activity_regularizer, **kwargs)\n"
     ]
    },
    {
     "name": "stdout",
     "output_type": "stream",
     "text": [
      "Epoch 1/10\n"
     ]
    },
    {
     "name": "stderr",
     "output_type": "stream",
     "text": [
      "2024-04-10 22:48:44.971394: W external/local_tsl/tsl/framework/cpu_allocator_impl.cc:83] Allocation of 1416276000 exceeds 10% of free system memory.\n"
     ]
    },
    {
     "name": "stdout",
     "output_type": "stream",
     "text": [
      "\u001b[1m3689/3689\u001b[0m \u001b[32m━━━━━━━━━━━━━━━━━━━━\u001b[0m\u001b[37m\u001b[0m \u001b[1m9s\u001b[0m 2ms/step - accuracy: 0.2772 - loss: 0.3673 - val_accuracy: 0.0000e+00 - val_loss: 0.2242\n",
      "Epoch 2/10\n",
      "\u001b[1m3689/3689\u001b[0m \u001b[32m━━━━━━━━━━━━━━━━━━━━\u001b[0m\u001b[37m\u001b[0m \u001b[1m9s\u001b[0m 2ms/step - accuracy: 0.2344 - loss: 0.2206 - val_accuracy: 0.4518 - val_loss: 0.2258\n",
      "Epoch 3/10\n",
      "\u001b[1m3689/3689\u001b[0m \u001b[32m━━━━━━━━━━━━━━━━━━━━\u001b[0m\u001b[37m\u001b[0m \u001b[1m9s\u001b[0m 2ms/step - accuracy: 0.2277 - loss: 0.2208 - val_accuracy: 0.4518 - val_loss: 0.2266\n",
      "Epoch 4/10\n",
      "\u001b[1m3689/3689\u001b[0m \u001b[32m━━━━━━━━━━━━━━━━━━━━\u001b[0m\u001b[37m\u001b[0m \u001b[1m9s\u001b[0m 2ms/step - accuracy: 0.2287 - loss: 0.2209 - val_accuracy: 0.4518 - val_loss: 0.2297\n",
      "Epoch 5/10\n",
      "\u001b[1m3689/3689\u001b[0m \u001b[32m━━━━━━━━━━━━━━━━━━━━\u001b[0m\u001b[37m\u001b[0m \u001b[1m9s\u001b[0m 2ms/step - accuracy: 0.2253 - loss: 0.2203 - val_accuracy: 0.4653 - val_loss: 0.2344\n",
      "Epoch 6/10\n",
      "\u001b[1m3689/3689\u001b[0m \u001b[32m━━━━━━━━━━━━━━━━━━━━\u001b[0m\u001b[37m\u001b[0m \u001b[1m9s\u001b[0m 2ms/step - accuracy: 0.2322 - loss: 0.2202 - val_accuracy: 0.0068 - val_loss: 0.2377\n",
      "Epoch 7/10\n",
      "\u001b[1m3689/3689\u001b[0m \u001b[32m━━━━━━━━━━━━━━━━━━━━\u001b[0m\u001b[37m\u001b[0m \u001b[1m9s\u001b[0m 2ms/step - accuracy: 0.2154 - loss: 0.2203 - val_accuracy: 0.0068 - val_loss: 0.2402\n",
      "Epoch 8/10\n",
      "\u001b[1m3689/3689\u001b[0m \u001b[32m━━━━━━━━━━━━━━━━━━━━\u001b[0m\u001b[37m\u001b[0m \u001b[1m9s\u001b[0m 2ms/step - accuracy: 0.2103 - loss: 0.2204 - val_accuracy: 0.0135 - val_loss: 0.2421\n",
      "Epoch 9/10\n",
      "\u001b[1m3689/3689\u001b[0m \u001b[32m━━━━━━━━━━━━━━━━━━━━\u001b[0m\u001b[37m\u001b[0m \u001b[1m9s\u001b[0m 2ms/step - accuracy: 0.2127 - loss: 0.2202 - val_accuracy: 0.0067 - val_loss: 0.2436\n",
      "Epoch 10/10\n",
      "\u001b[1m3689/3689\u001b[0m \u001b[32m━━━━━━━━━━━━━━━━━━━━\u001b[0m\u001b[37m\u001b[0m \u001b[1m9s\u001b[0m 2ms/step - accuracy: 0.2244 - loss: 0.2205 - val_accuracy: 0.0068 - val_loss: 0.2459\n"
     ]
    },
    {
     "name": "stderr",
     "output_type": "stream",
     "text": [
      "WARNING:absl:You are saving your model as an HDF5 file via `model.save()` or `keras.saving.save_model(model)`. This file format is considered legacy. We recommend using instead the native Keras format, e.g. `model.save('my_model.keras')` or `keras.saving.save_model(model, 'my_model.keras')`. \n"
     ]
    },
    {
     "name": "stdout",
     "output_type": "stream",
     "text": [
      "\u001b[1m1/1\u001b[0m \u001b[32m━━━━━━━━━━━━━━━━━━━━\u001b[0m\u001b[37m\u001b[0m \u001b[1m0s\u001b[0m 31ms/step\n",
      "                timestamp     source_ip destination_ip protocol  length  http_scan  ping_scan    nmap_scan  unmalicious  maybemalicious  malicious\n",
      "2024-04-09T04:26:01+10:00 192.168.0.222  192.168.0.148      TCP     206        0.0        0.0 1.716450e-34          0.0             0.0        0.0\n"
     ]
    }
   ],
   "source": [
    "\n",
    "\n",
    "# Split the data into features and target\n",
    "X = data[payload_columns].values\n",
    "y = data[[\"http_scan\", \"ping_scan\", \"nmap_scan\", \"unmalicious\", \"maybemalicious\", \"malicious\"]].values\n",
    "\n",
    "# Split the data into train and test sets\n",
    "X_train, X_test, y_train, y_test = train_test_split(X, y, test_size=0.2, random_state=42)\n",
    "\n",
    "# Build the TensorFlow model\n",
    "model = tf.keras.Sequential([\n",
    "    tf.keras.layers.Dense(128, activation=\"relu\", input_shape=(3000,)),\n",
    "    tf.keras.layers.Dense(64, activation=\"relu\"),\n",
    "    tf.keras.layers.Dense(6, activation=\"sigmoid\")\n",
    "])\n",
    "\n",
    "model.compile(optimizer=\"adam\", loss=\"binary_crossentropy\", metrics=[\"accuracy\"])\n",
    "\n",
    "# Train the model\n",
    "model.fit(X_train, y_train, epochs=10, batch_size=32, validation_data=(X_test, y_test))\n",
    "\n",
    "# Save the model\n",
    "model.save(\"network_model.h5\")\n",
    "\n",
    "# Function to make predictions\n",
    "def predict(data):\n",
    "    payload_data = pd.DataFrame(data[\"payload\"].apply(transform_payload).tolist(), columns=payload_columns)\n",
    "    predictions = model.predict(payload_data.values)\n",
    "    return predictions\n",
    "\n",
    "# Example usage\n",
    "input_data = pd.DataFrame({\n",
    "    \"timestamp\": [\"2024-04-09T04:26:01+10:00\"],\n",
    "    \"source_ip\": [\"192.168.0.222\"],\n",
    "    \"destination_ip\": [\"192.168.0.148\"],\n",
    "    \"protocol\": [\"TCP\"],\n",
    "    \"length\": [206],\n",
    "    \"payload\": [\"72 84 84 80 47 49 46 49 32 50 48 48 32 79 75 13 10 68 97 116 101 58 32 77 111 110 44 32 48 56 32 65 112 114 32 50 48 50 52 32 49 56 58 50 54 58 48 49 32 71 77 84 13 10 67 111 110 116 101 110 116 45 84 121 112 101 58 32 116 101 120 116 47 112 108 97 105 110 59 32 99 104 97 114 115 101 116 61 117 116 102 45 56 13 10 67 111 110 116 101 110 116 45 76 101 110 103 116 104 58 32 50 13 10 65 99 99 101 115 115 45 67 111 110 116 114 111 108 45 65 108 108 111 119 45 79 114 105 103 105 110 58 32 42 13 10 13 10 79 75\"]\n",
    "})\n",
    "\n",
    "predictions = predict(input_data)\n",
    "\n",
    "output_data = input_data[[\"timestamp\", \"source_ip\", \"destination_ip\", \"protocol\", \"length\"]].copy()\n",
    "output_data[\"http_scan\"] = predictions[:, 0]\n",
    "output_data[\"ping_scan\"] = predictions[:, 1]\n",
    "output_data[\"nmap_scan\"] = predictions[:, 2]\n",
    "output_data[\"unmalicious\"] = predictions[:, 3]\n",
    "output_data[\"maybemalicious\"] = predictions[:, 4]\n",
    "output_data[\"malicious\"] = predictions[:, 5]\n",
    "\n",
    "print(output_data.to_string(index=False))"
   ]
  },
  {
   "cell_type": "code",
   "execution_count": 14,
   "id": "ebc6cbe0",
   "metadata": {},
   "outputs": [
    {
     "name": "stdout",
     "output_type": "stream",
     "text": [
      "INFO:tensorflow:Assets written to: network_model_savedmodel/assets\n"
     ]
    },
    {
     "name": "stderr",
     "output_type": "stream",
     "text": [
      "INFO:tensorflow:Assets written to: network_model_savedmodel/assets\n"
     ]
    }
   ],
   "source": [
    "tf.saved_model.save(model, \"network_model_savedmodel\")"
   ]
  },
  {
   "cell_type": "code",
   "execution_count": null,
   "id": "0f56a25f",
   "metadata": {},
   "outputs": [],
   "source": []
  }
 ],
 "metadata": {
  "kernelspec": {
   "display_name": "Python 3 (ipykernel)",
   "language": "python",
   "name": "python3"
  },
  "language_info": {
   "codemirror_mode": {
    "name": "ipython",
    "version": 3
   },
   "file_extension": ".py",
   "mimetype": "text/x-python",
   "name": "python",
   "nbconvert_exporter": "python",
   "pygments_lexer": "ipython3",
   "version": "3.11.2"
  }
 },
 "nbformat": 4,
 "nbformat_minor": 5
}
